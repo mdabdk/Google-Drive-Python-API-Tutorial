{
 "cells": [
  {
   "cell_type": "markdown",
   "metadata": {},
   "source": [
    "# Google Drive Python API Tutorial"
   ]
  },
  {
   "cell_type": "markdown",
   "metadata": {},
   "source": [
    "The purpose of this notebook is to demonstrate the different capabilities of the Google Drive Python API. Note that the reader is encouraged to first check if [PyDrive](https://pythonhosted.org/PyDrive/) can do the job. PyDrive is mainly used for simple requests, such as creating folders and files. However, in the case that a more complex task is required, then the Google Drive Python API is more appropriate. This guide **must** be complemented with the official [documentation](http://googleapis.github.io/google-api-python-client/docs/dyn/drive_v3.html).\n",
    "\n",
    "A very helpful quickstart guide can be found [here](https://www.thepythoncode.com/article/using-google-drive--api-in-python).\n",
    "\n",
    "Note that the Google Drive API is a REST API. This means that its architecture is based on a known blueprint. This blueprint is detailed [here](https://restfulapi.net/)."
   ]
  },
  {
   "cell_type": "markdown",
   "metadata": {},
   "source": [
    "## Introduction"
   ]
  },
  {
   "cell_type": "markdown",
   "metadata": {},
   "source": [
    "To get started, complete step 1 and step 2 on [this](https://developers.google.com/drive/api/v3/quickstart/python) page to download a `credentials.json` file into your working directory and to install the Google Python client library.\n",
    "\n",
    "Once completed, the next step is gain access to your Google Drive using the API. First, define what kind of read and write permissions you will have:"
   ]
  },
  {
   "cell_type": "code",
   "execution_count": 36,
   "metadata": {},
   "outputs": [],
   "source": [
    "SCOPES = ['https://www.googleapis.com/auth/drive.file']"
   ]
  },
  {
   "cell_type": "markdown",
   "metadata": {},
   "source": [
    "In this case, you will have the ability to create and upload files using the Google Drive API. However, other types of permissions are available. See [here](https://developers.google.com/drive/api/v3/about-auth) for details.\n",
    "\n",
    "Next, check if the user's access and refresh tokens already exist:"
   ]
  },
  {
   "cell_type": "code",
   "execution_count": 37,
   "metadata": {},
   "outputs": [],
   "source": [
    "import pickle\n",
    "import os\n",
    "\n",
    "if os.path.exists('token.pickle'):\n",
    "    with open('token.pickle','rb') as f:\n",
    "        creds = pickle.load(f)\n",
    "else:\n",
    "    creds = None"
   ]
  },
  {
   "cell_type": "markdown",
   "metadata": {},
   "source": [
    "If the user's access and refresh tokens don't exist, or they are no longer valid, then create them and save them. This will **not** work if the `credentials.json` file is not in your working directory."
   ]
  },
  {
   "cell_type": "code",
   "execution_count": 38,
   "metadata": {},
   "outputs": [],
   "source": [
    "from google_auth_oauthlib.flow import InstalledAppFlow\n",
    "from google.auth.transport.requests import Request\n",
    "\n",
    "if not creds or not creds.valid:\n",
    "    if creds and creds.expired and creds.refresh_token:\n",
    "        creds.refresh(Request())\n",
    "    else:\n",
    "        flow = InstalledAppFlow.from_client_secrets_file('credentials.json', SCOPES)\n",
    "        creds = flow.run_local_server(port=0)\n",
    "    \n",
    "    with open('token.pickle', 'wb') as f:\n",
    "        pickle.dump(creds,f)"
   ]
  },
  {
   "cell_type": "markdown",
   "metadata": {},
   "source": [
    "Now check that the authentication flow worked:"
   ]
  },
  {
   "cell_type": "code",
   "execution_count": 39,
   "metadata": {},
   "outputs": [
    {
     "data": {
      "text/plain": [
       "'49399332122-0992avrgpgvacdkedsgi4fqbhp50lrm5.apps.googleusercontent.com'"
      ]
     },
     "execution_count": 39,
     "metadata": {},
     "output_type": "execute_result"
    }
   ],
   "source": [
    "creds.client_id"
   ]
  },
  {
   "cell_type": "markdown",
   "metadata": {},
   "source": [
    "This should be the same as the string in the `\"client_id\"` field in the `credentials.json` file. Additionally, if the access and refresh tokens did not already exist, then a `token.pickle` file should now be in your working directory.\n",
    "\n",
    "Finally, a `drive` object is created to directly interface with your Google Drive:"
   ]
  },
  {
   "cell_type": "code",
   "execution_count": 40,
   "metadata": {},
   "outputs": [],
   "source": [
    "from googleapiclient.discovery import build\n",
    "\n",
    "drive = build('drive', 'v3',credentials=creds)"
   ]
  },
  {
   "cell_type": "markdown",
   "metadata": {},
   "source": [
    "The `drive` object has several associated public methods, including `files`, `drives`, and `comments`:"
   ]
  },
  {
   "cell_type": "code",
   "execution_count": 41,
   "metadata": {},
   "outputs": [
    {
     "data": {
      "text/plain": [
       "['__class__',\n",
       " '__delattr__',\n",
       " '__dict__',\n",
       " '__dir__',\n",
       " '__doc__',\n",
       " '__eq__',\n",
       " '__format__',\n",
       " '__ge__',\n",
       " '__getattribute__',\n",
       " '__getstate__',\n",
       " '__gt__',\n",
       " '__hash__',\n",
       " '__init__',\n",
       " '__init_subclass__',\n",
       " '__le__',\n",
       " '__lt__',\n",
       " '__module__',\n",
       " '__ne__',\n",
       " '__new__',\n",
       " '__reduce__',\n",
       " '__reduce_ex__',\n",
       " '__repr__',\n",
       " '__setattr__',\n",
       " '__setstate__',\n",
       " '__sizeof__',\n",
       " '__str__',\n",
       " '__subclasshook__',\n",
       " '__weakref__',\n",
       " '_add_basic_methods',\n",
       " '_add_nested_resources',\n",
       " '_add_next_methods',\n",
       " '_baseUrl',\n",
       " '_developerKey',\n",
       " '_dynamic_attrs',\n",
       " '_http',\n",
       " '_model',\n",
       " '_requestBuilder',\n",
       " '_resourceDesc',\n",
       " '_rootDesc',\n",
       " '_schema',\n",
       " '_set_dynamic_attr',\n",
       " '_set_service_methods',\n",
       " 'about',\n",
       " 'changes',\n",
       " 'channels',\n",
       " 'comments',\n",
       " 'drives',\n",
       " 'files',\n",
       " 'new_batch_http_request',\n",
       " 'permissions',\n",
       " 'replies',\n",
       " 'revisions',\n",
       " 'teamdrives']"
      ]
     },
     "execution_count": 41,
     "metadata": {},
     "output_type": "execute_result"
    }
   ],
   "source": [
    "dir(drive)"
   ]
  },
  {
   "cell_type": "markdown",
   "metadata": {},
   "source": [
    "These public methods have different purposes. Details on their purposes can be found [here](https://developers.google.com/drive/api/v3/reference).\n",
    "\n",
    "For now, only the `files` method will be used. The associated public methods of `drive.files()` are detailed [here](https://developers.google.com/drive/api/v3/reference/files)."
   ]
  },
  {
   "cell_type": "code",
   "execution_count": 42,
   "metadata": {},
   "outputs": [
    {
     "data": {
      "text/plain": [
       "['__class__',\n",
       " '__delattr__',\n",
       " '__dict__',\n",
       " '__dir__',\n",
       " '__doc__',\n",
       " '__eq__',\n",
       " '__format__',\n",
       " '__ge__',\n",
       " '__getattribute__',\n",
       " '__getstate__',\n",
       " '__gt__',\n",
       " '__hash__',\n",
       " '__init__',\n",
       " '__init_subclass__',\n",
       " '__le__',\n",
       " '__lt__',\n",
       " '__module__',\n",
       " '__ne__',\n",
       " '__new__',\n",
       " '__reduce__',\n",
       " '__reduce_ex__',\n",
       " '__repr__',\n",
       " '__setattr__',\n",
       " '__setstate__',\n",
       " '__sizeof__',\n",
       " '__str__',\n",
       " '__subclasshook__',\n",
       " '__weakref__',\n",
       " '_add_basic_methods',\n",
       " '_add_nested_resources',\n",
       " '_add_next_methods',\n",
       " '_baseUrl',\n",
       " '_developerKey',\n",
       " '_dynamic_attrs',\n",
       " '_http',\n",
       " '_model',\n",
       " '_requestBuilder',\n",
       " '_resourceDesc',\n",
       " '_rootDesc',\n",
       " '_schema',\n",
       " '_set_dynamic_attr',\n",
       " '_set_service_methods',\n",
       " 'copy',\n",
       " 'create',\n",
       " 'delete',\n",
       " 'emptyTrash',\n",
       " 'export',\n",
       " 'export_media',\n",
       " 'generateIds',\n",
       " 'get',\n",
       " 'get_media',\n",
       " 'list',\n",
       " 'list_next',\n",
       " 'update',\n",
       " 'watch',\n",
       " 'watch_media']"
      ]
     },
     "execution_count": 42,
     "metadata": {},
     "output_type": "execute_result"
    }
   ],
   "source": [
    "dir(drive.files())"
   ]
  },
  {
   "cell_type": "markdown",
   "metadata": {},
   "source": [
    "## Create a folder"
   ]
  },
  {
   "cell_type": "markdown",
   "metadata": {},
   "source": [
    "In the Google Drive API, files and folders are treated almost the same way. Both require the definition of their metadata before creation. More information about the metadata for a file/folder can be found [here](https://developers.google.com/drive/api/v3/reference/files#resource-representations). This metadata is defined using a Python dictionary.\n",
    "\n",
    "For example, to create a folder, its metadata could be:"
   ]
  },
  {
   "cell_type": "code",
   "execution_count": 43,
   "metadata": {},
   "outputs": [],
   "source": [
    "folder_metadata = {'name': 'TestFolder',\n",
    "                   'mimeType': 'application/vnd.google-apps.folder'}"
   ]
  },
  {
   "cell_type": "markdown",
   "metadata": {},
   "source": [
    "The `'mimeType'` key refers to the type of media (file, folder, text file, PDF,...) to be created. More information about this can be found [here](https://stackoverflow.com/questions/3828352/what-is-a-mime-type). A list of **some** of the MIME types that are identifiable by the Google Drive API can be found [here](https://developers.google.com/drive/api/v3/mime-types).\n",
    "\n",
    "Note that that the `body` parameter is available to all `drive.files()` methods that have a request body, including `create()` and `update()`. Here is an [example](https://developers.google.com/drive/api/v3/reference/files/update#request-body).\n",
    "\n",
    "Next, a folder is created using the `create()` method:"
   ]
  },
  {
   "cell_type": "code",
   "execution_count": 44,
   "metadata": {},
   "outputs": [],
   "source": [
    "create_folder_req = drive.files().create(body = folder_metadata,fields = 'id,name')"
   ]
  },
  {
   "cell_type": "markdown",
   "metadata": {},
   "source": [
    "The `body` parameter takes the metadata dictionary as input. The `fields` parameter is used to choose specific metadata to be returned in the response body of the HTTP request. More details on the format of the `fields` parameter can be found [here](https://developers.google.com/drive/api/v3/fields-parameter#formatting_rules_for_the_fields_parameter). More information about the available parameters for the `create()` method can be found [here](http://googleapis.github.io/google-api-python-client/docs/dyn/drive_v3.files.html#create).\n",
    "\n",
    "More precisely, since `create_folder_req` is a HTTP request:"
   ]
  },
  {
   "cell_type": "code",
   "execution_count": 45,
   "metadata": {},
   "outputs": [
    {
     "data": {
      "text/plain": [
       "<googleapiclient.http.HttpRequest at 0x1d5934ccd48>"
      ]
     },
     "execution_count": 45,
     "metadata": {},
     "output_type": "execute_result"
    }
   ],
   "source": [
    "create_folder_req"
   ]
  },
  {
   "cell_type": "markdown",
   "metadata": {},
   "source": [
    "Then it has an associated response body. Also, since `create_folder_req` is a HTTP request, then it needs to be executed:"
   ]
  },
  {
   "cell_type": "code",
   "execution_count": 46,
   "metadata": {},
   "outputs": [],
   "source": [
    "folder = create_folder_req.execute()"
   ]
  },
  {
   "cell_type": "markdown",
   "metadata": {},
   "source": [
    "The associated metadata fields that were requested in `create_folder_req` are then returned in the response body:"
   ]
  },
  {
   "cell_type": "code",
   "execution_count": 47,
   "metadata": {},
   "outputs": [
    {
     "data": {
      "text/plain": [
       "{'id': '18jTpCqJm9u1GtMeM0KAYsgQNVN7JyMkb', 'name': 'TestFolder'}"
      ]
     },
     "execution_count": 47,
     "metadata": {},
     "output_type": "execute_result"
    }
   ],
   "source": [
    "folder"
   ]
  },
  {
   "cell_type": "markdown",
   "metadata": {},
   "source": [
    "Every file and folder in Google Drive has a unique `id`. This means that two files or folders can have the same `name` with a different `id`."
   ]
  },
  {
   "cell_type": "markdown",
   "metadata": {},
   "source": [
    "## Upload a file"
   ]
  },
  {
   "cell_type": "markdown",
   "metadata": {},
   "source": [
    "Since the `TestFolder` folder has been created, a file can be uploaded to it. First, create a sample `HelloWorld.txt` file to upload:"
   ]
  },
  {
   "cell_type": "code",
   "execution_count": 48,
   "metadata": {},
   "outputs": [],
   "source": [
    "with open('HelloWorld.txt','w') as f:\n",
    "    f.write('Hello World!')"
   ]
  },
  {
   "cell_type": "markdown",
   "metadata": {},
   "source": [
    "Next, create metadata for this file:"
   ]
  },
  {
   "cell_type": "code",
   "execution_count": 49,
   "metadata": {},
   "outputs": [],
   "source": [
    "file_metadata = {'name': 'HelloWorld.txt',\n",
    "                 'parents': [folder['id']]}"
   ]
  },
  {
   "cell_type": "markdown",
   "metadata": {},
   "source": [
    "The `'parents'` field indicates the folders that should contain this file. Note that in Google Drive, several folders can contain the same file. In this case, the `id` of the `TestFolder` folder is specified as the parent folder.\n",
    "\n",
    "Next, a `MediaFileUpload` object is created to complete the upload:"
   ]
  },
  {
   "cell_type": "code",
   "execution_count": 50,
   "metadata": {},
   "outputs": [],
   "source": [
    "from googleapiclient.http import MediaFileUpload\n",
    "\n",
    "media = MediaFileUpload('HelloWorld.txt',chunksize = -1,resumable = False)"
   ]
  },
  {
   "cell_type": "markdown",
   "metadata": {},
   "source": [
    "The `chunksize` parameter indicates the size of each piece of the file to be consecutively uploaded. A `chunksize` of `-1` indicates that the whole file should be uploaded as one piece, which is only possible if the file is less than 5 MB in size. The `resumable` parameter indicates whether the upload should be done over multiple requests or not. In this case, the upload is done using a single request. More details on the parameters for the `MediaFileUpload` object can be found [here](https://github.com/googleapis/google-api-python-client/blob/21af37b11ea2d6a89b3df484e1b2fa1d12849510/googleapiclient/http.py#L534).\n",
    "\n",
    "Finally, upload the file:"
   ]
  },
  {
   "cell_type": "code",
   "execution_count": 51,
   "metadata": {},
   "outputs": [],
   "source": [
    "file = drive.files().create(body = file_metadata,media_body = media,fields = 'id').execute()"
   ]
  },
  {
   "cell_type": "markdown",
   "metadata": {},
   "source": [
    "The `id` of the uploaded `HelloWorld.txt` file is:"
   ]
  },
  {
   "cell_type": "code",
   "execution_count": 52,
   "metadata": {},
   "outputs": [
    {
     "data": {
      "text/plain": [
       "'1xDVZFe2MoAiVKpO4s-rWh9x4fUmh6elC'"
      ]
     },
     "execution_count": 52,
     "metadata": {},
     "output_type": "execute_result"
    }
   ],
   "source": [
    "file['id']"
   ]
  },
  {
   "cell_type": "markdown",
   "metadata": {},
   "source": [
    "## Delete a file"
   ]
  },
  {
   "cell_type": "markdown",
   "metadata": {},
   "source": [
    "The uploaded `HelloWorld.txt` file can be deleted using the `delete()` method:"
   ]
  },
  {
   "cell_type": "code",
   "execution_count": 53,
   "metadata": {},
   "outputs": [
    {
     "data": {
      "text/plain": [
       "''"
      ]
     },
     "execution_count": 53,
     "metadata": {},
     "output_type": "execute_result"
    }
   ],
   "source": [
    "drive.files().delete(fileId = file['id']).execute()"
   ]
  },
  {
   "cell_type": "markdown",
   "metadata": {},
   "source": [
    "Note that if the `fileId` is the `id` of a folder, then the folder and the files within it are deleted. See [here](https://developers.google.com/drive/api/v3/reference/files/delete) for details."
   ]
  },
  {
   "cell_type": "markdown",
   "metadata": {},
   "source": [
    "## Make a file indexable"
   ]
  },
  {
   "cell_type": "markdown",
   "metadata": {},
   "source": [
    "There are three ways to make a file indexable (searchable):\n",
    "\n",
    "1. Using the `contentHints.indexableText` metadata field.\n",
    "2. Using the `description` metadata field.\n",
    "3. Using the `properties` metadata field."
   ]
  },
  {
   "cell_type": "markdown",
   "metadata": {},
   "source": [
    "### The `contentHints.indexableText` metadata field"
   ]
  },
  {
   "cell_type": "markdown",
   "metadata": {},
   "source": [
    "For example, suppose that the uploaded `HelloWorld.txt` file was associated with a specific day of the week, such as Monday. Then its metadata can be:"
   ]
  },
  {
   "cell_type": "code",
   "execution_count": 54,
   "metadata": {},
   "outputs": [],
   "source": [
    "file_metadata = {'name': 'HelloWorld.txt',\n",
    "                 'parents': [folder['id']],\n",
    "                 'contentHints': {'indexableText':'day of week: Monday'}}"
   ]
  },
  {
   "cell_type": "markdown",
   "metadata": {},
   "source": [
    "The `HelloWorld.txt` file can then be re-uploaded with the new metadata:"
   ]
  },
  {
   "cell_type": "code",
   "execution_count": 55,
   "metadata": {},
   "outputs": [],
   "source": [
    "media = MediaFileUpload('HelloWorld.txt',chunksize = -1,resumable = False)\n",
    "file = drive.files().create(body = file_metadata,media_body = media,fields = '*').execute()"
   ]
  },
  {
   "cell_type": "markdown",
   "metadata": {},
   "source": [
    "The sentence `day of week: Monday` can then be entered into the search bar in Google Drive to return this file.\n",
    "\n",
    "Notice that the `contentHints` field does not show up in the response body:"
   ]
  },
  {
   "cell_type": "code",
   "execution_count": 56,
   "metadata": {},
   "outputs": [
    {
     "data": {
      "text/plain": [
       "{'kind': 'drive#file',\n",
       " 'id': '1jUuadfUbAm7sG02r5sT0-qlvuZcSoDZD',\n",
       " 'name': 'HelloWorld.txt',\n",
       " 'mimeType': 'text/plain',\n",
       " 'starred': False,\n",
       " 'trashed': False,\n",
       " 'explicitlyTrashed': False,\n",
       " 'parents': ['18jTpCqJm9u1GtMeM0KAYsgQNVN7JyMkb'],\n",
       " 'spaces': ['drive'],\n",
       " 'version': '1',\n",
       " 'webContentLink': 'https://drive.google.com/uc?id=1jUuadfUbAm7sG02r5sT0-qlvuZcSoDZD&export=download',\n",
       " 'webViewLink': 'https://drive.google.com/file/d/1jUuadfUbAm7sG02r5sT0-qlvuZcSoDZD/view?usp=drivesdk',\n",
       " 'iconLink': 'https://drive-thirdparty.googleusercontent.com/16/type/text/plain',\n",
       " 'hasThumbnail': False,\n",
       " 'thumbnailVersion': '0',\n",
       " 'viewedByMe': False,\n",
       " 'createdTime': '2020-07-14T13:57:55.516Z',\n",
       " 'modifiedTime': '2020-07-14T13:57:55.516Z',\n",
       " 'modifiedByMeTime': '2020-07-14T13:57:55.516Z',\n",
       " 'modifiedByMe': True,\n",
       " 'owners': [{'kind': 'drive#user',\n",
       "   'displayName': 'Mahmoud Abdelkhalek',\n",
       "   'me': True,\n",
       "   'permissionId': '00310888964931586150',\n",
       "   'emailAddress': 'maabdelk@ncsu.edu'}],\n",
       " 'lastModifyingUser': {'kind': 'drive#user',\n",
       "  'displayName': 'Mahmoud Abdelkhalek',\n",
       "  'me': True,\n",
       "  'permissionId': '00310888964931586150',\n",
       "  'emailAddress': 'maabdelk@ncsu.edu'},\n",
       " 'shared': False,\n",
       " 'ownedByMe': True,\n",
       " 'capabilities': {'canAddChildren': False,\n",
       "  'canAddMyDriveParent': False,\n",
       "  'canChangeCopyRequiresWriterPermission': True,\n",
       "  'canChangeViewersCanCopyContent': True,\n",
       "  'canComment': True,\n",
       "  'canCopy': True,\n",
       "  'canDelete': True,\n",
       "  'canDownload': True,\n",
       "  'canEdit': True,\n",
       "  'canListChildren': False,\n",
       "  'canModifyContent': True,\n",
       "  'canMoveChildrenWithinDrive': False,\n",
       "  'canMoveItemIntoTeamDrive': True,\n",
       "  'canMoveItemOutOfDrive': True,\n",
       "  'canMoveItemWithinDrive': True,\n",
       "  'canReadRevisions': True,\n",
       "  'canRemoveChildren': False,\n",
       "  'canRemoveMyDriveParent': True,\n",
       "  'canRename': True,\n",
       "  'canShare': True,\n",
       "  'canTrash': True,\n",
       "  'canUntrash': True},\n",
       " 'viewersCanCopyContent': True,\n",
       " 'copyRequiresWriterPermission': False,\n",
       " 'writersCanShare': True,\n",
       " 'permissions': [{'kind': 'drive#permission',\n",
       "   'id': '00310888964931586150',\n",
       "   'type': 'user',\n",
       "   'emailAddress': 'maabdelk@ncsu.edu',\n",
       "   'role': 'owner',\n",
       "   'displayName': 'Mahmoud Abdelkhalek',\n",
       "   'deleted': False}],\n",
       " 'permissionIds': ['00310888964931586150'],\n",
       " 'originalFilename': 'HelloWorld.txt',\n",
       " 'fullFileExtension': 'txt',\n",
       " 'fileExtension': 'txt',\n",
       " 'md5Checksum': 'ed076287532e86365e841e92bfc50d8c',\n",
       " 'size': '12',\n",
       " 'quotaBytesUsed': '12',\n",
       " 'headRevisionId': '0B07zESa0A2SEWTc1cE9XaDJjYlVQbFI2QnQzanRHYlBJR1BvPQ',\n",
       " 'isAppAuthorized': True}"
      ]
     },
     "execution_count": 56,
     "metadata": {},
     "output_type": "execute_result"
    }
   ],
   "source": [
    "file"
   ]
  },
  {
   "cell_type": "markdown",
   "metadata": {},
   "source": [
    "Also, there is an inherent problem with this approach. The `contentHints.indexableText` field is included in the body of text that is searched by Google Drive when searching file contents. This means that if there are PDF, text, or any other content-indexable files in the drive, and any of them happen to contain `day of week: Monday`, then they will also be returned with `HelloWorld.txt` when performing a search."
   ]
  },
  {
   "cell_type": "markdown",
   "metadata": {},
   "source": [
    "### The `description` metadata field"
   ]
  },
  {
   "cell_type": "markdown",
   "metadata": {},
   "source": [
    "Alternatively, the `description` metadata field can be used. However, instead of deleting the original `HelloWorld.txt` file then re-uploading it with new metadata, its metadata can be updated while it is in the drive using the `update()` method:"
   ]
  },
  {
   "cell_type": "code",
   "execution_count": 57,
   "metadata": {},
   "outputs": [],
   "source": [
    "new_file_metadata = {'contentHints': '', # remove previous metadata\n",
    "                     'description': 'day of week: Monday'}\n",
    "\n",
    "file = drive.files().update(fileId = file['id'],body = new_file_metadata,fields = '*').execute()"
   ]
  },
  {
   "cell_type": "markdown",
   "metadata": {},
   "source": [
    "Notice that the `description` field is visible in the response body:"
   ]
  },
  {
   "cell_type": "code",
   "execution_count": 58,
   "metadata": {},
   "outputs": [
    {
     "data": {
      "text/plain": [
       "{'kind': 'drive#file',\n",
       " 'id': '1jUuadfUbAm7sG02r5sT0-qlvuZcSoDZD',\n",
       " 'name': 'HelloWorld.txt',\n",
       " 'mimeType': 'text/plain',\n",
       " 'description': 'day of week: Monday',\n",
       " 'starred': False,\n",
       " 'trashed': False,\n",
       " 'explicitlyTrashed': False,\n",
       " 'parents': ['18jTpCqJm9u1GtMeM0KAYsgQNVN7JyMkb'],\n",
       " 'spaces': ['drive'],\n",
       " 'version': '2',\n",
       " 'webContentLink': 'https://drive.google.com/uc?id=1jUuadfUbAm7sG02r5sT0-qlvuZcSoDZD&export=download',\n",
       " 'webViewLink': 'https://drive.google.com/file/d/1jUuadfUbAm7sG02r5sT0-qlvuZcSoDZD/view?usp=drivesdk',\n",
       " 'iconLink': 'https://drive-thirdparty.googleusercontent.com/16/type/text/plain',\n",
       " 'hasThumbnail': False,\n",
       " 'thumbnailVersion': '0',\n",
       " 'viewedByMe': False,\n",
       " 'createdTime': '2020-07-14T13:57:55.516Z',\n",
       " 'modifiedTime': '2020-07-14T13:57:56.406Z',\n",
       " 'modifiedByMeTime': '2020-07-14T13:57:56.406Z',\n",
       " 'modifiedByMe': True,\n",
       " 'owners': [{'kind': 'drive#user',\n",
       "   'displayName': 'Mahmoud Abdelkhalek',\n",
       "   'me': True,\n",
       "   'permissionId': '00310888964931586150',\n",
       "   'emailAddress': 'maabdelk@ncsu.edu'}],\n",
       " 'lastModifyingUser': {'kind': 'drive#user',\n",
       "  'displayName': 'Mahmoud Abdelkhalek',\n",
       "  'me': True,\n",
       "  'permissionId': '00310888964931586150',\n",
       "  'emailAddress': 'maabdelk@ncsu.edu'},\n",
       " 'shared': False,\n",
       " 'ownedByMe': True,\n",
       " 'capabilities': {'canAddChildren': False,\n",
       "  'canAddMyDriveParent': False,\n",
       "  'canChangeCopyRequiresWriterPermission': True,\n",
       "  'canChangeViewersCanCopyContent': True,\n",
       "  'canComment': True,\n",
       "  'canCopy': True,\n",
       "  'canDelete': True,\n",
       "  'canDownload': True,\n",
       "  'canEdit': True,\n",
       "  'canListChildren': False,\n",
       "  'canModifyContent': True,\n",
       "  'canMoveChildrenWithinDrive': False,\n",
       "  'canMoveItemIntoTeamDrive': True,\n",
       "  'canMoveItemOutOfDrive': True,\n",
       "  'canMoveItemWithinDrive': True,\n",
       "  'canReadRevisions': True,\n",
       "  'canRemoveChildren': False,\n",
       "  'canRemoveMyDriveParent': True,\n",
       "  'canRename': True,\n",
       "  'canShare': True,\n",
       "  'canTrash': True,\n",
       "  'canUntrash': True},\n",
       " 'viewersCanCopyContent': True,\n",
       " 'copyRequiresWriterPermission': False,\n",
       " 'writersCanShare': True,\n",
       " 'permissions': [{'kind': 'drive#permission',\n",
       "   'id': '00310888964931586150',\n",
       "   'type': 'user',\n",
       "   'emailAddress': 'maabdelk@ncsu.edu',\n",
       "   'role': 'owner',\n",
       "   'displayName': 'Mahmoud Abdelkhalek',\n",
       "   'deleted': False}],\n",
       " 'permissionIds': ['00310888964931586150'],\n",
       " 'originalFilename': 'HelloWorld.txt',\n",
       " 'fullFileExtension': 'txt',\n",
       " 'fileExtension': 'txt',\n",
       " 'md5Checksum': 'ed076287532e86365e841e92bfc50d8c',\n",
       " 'size': '12',\n",
       " 'quotaBytesUsed': '12',\n",
       " 'headRevisionId': '0B07zESa0A2SEWTc1cE9XaDJjYlVQbFI2QnQzanRHYlBJR1BvPQ',\n",
       " 'isAppAuthorized': True}"
      ]
     },
     "execution_count": 58,
     "metadata": {},
     "output_type": "execute_result"
    }
   ],
   "source": [
    "file"
   ]
  },
  {
   "cell_type": "markdown",
   "metadata": {},
   "source": [
    "The only advantage that the `description` field offers over the `contentHints.indexableText` field is that it is visible when right-clicking a file and selecting the 'View details' option. However, it suffers from the same problem, since searching for `day of week: Monday` in the search bar also yields other files that contain this sentence. This is because it is not possible to restrict the search to only use the `description` field. See [here](https://support.google.com/drive/answer/2375114?hl=en&authuser=1) for the types of filters that can be used while searching using the Google Drive search bar."
   ]
  },
  {
   "cell_type": "markdown",
   "metadata": {},
   "source": [
    "### The `properties` metadata field"
   ]
  },
  {
   "cell_type": "markdown",
   "metadata": {},
   "source": [
    "The solution to this problem is to use the `properties` metadata field instead, which can be searched using the Google Drive API. See [here](https://developers.google.com/drive/api/v3/properties) and [here](https://developers.google.com/drive/api/v3/search-files) for details."
   ]
  },
  {
   "cell_type": "code",
   "execution_count": 59,
   "metadata": {},
   "outputs": [],
   "source": [
    "properties = {'day_of_week' : 'Monday'}\n",
    "\n",
    "new_file_metadata = {'description': '', # remove previous metadata\n",
    "                     'properties':properties}\n",
    "\n",
    "file1 = drive.files().update(fileId = file['id'],\n",
    "                             body = new_file_metadata,\n",
    "                             fields = 'name,id,properties').execute()"
   ]
  },
  {
   "cell_type": "markdown",
   "metadata": {},
   "source": [
    "Note that the keys in the `properties` dict cannot contain spaces. The `properties` field has a standard format that must be followed, which is `properties = {'key1' : 'value1', 'key2' : 'value2', ...}`. Here is the response body for the file:"
   ]
  },
  {
   "cell_type": "code",
   "execution_count": 60,
   "metadata": {},
   "outputs": [
    {
     "data": {
      "text/plain": [
       "{'id': '1jUuadfUbAm7sG02r5sT0-qlvuZcSoDZD',\n",
       " 'name': 'HelloWorld.txt',\n",
       " 'properties': {'day_of_week': 'Monday'}}"
      ]
     },
     "execution_count": 60,
     "metadata": {},
     "output_type": "execute_result"
    }
   ],
   "source": [
    "file1"
   ]
  },
  {
   "cell_type": "markdown",
   "metadata": {},
   "source": [
    "Next, the `files().list()` method can be used to search for the `HelloWorld.txt` file. Note that in this case, the parameters in the `fields` parameter need to be enclosed with `files()`."
   ]
  },
  {
   "cell_type": "code",
   "execution_count": 61,
   "metadata": {},
   "outputs": [
    {
     "data": {
      "text/plain": [
       "{'files': [{'name': 'HelloWorld.txt',\n",
       "   'properties': {'day_of_week': 'Monday'}}]}"
      ]
     },
     "execution_count": 61,
     "metadata": {},
     "output_type": "execute_result"
    }
   ],
   "source": [
    "query = \"properties has {key = 'day_of_week' and value = 'Monday'}\"\n",
    "\n",
    "drive.files().list(q = query,fields = 'files(name,properties)').execute()"
   ]
  },
  {
   "cell_type": "markdown",
   "metadata": {},
   "source": [
    "### Search using multiple properties"
   ]
  },
  {
   "cell_type": "markdown",
   "metadata": {},
   "source": [
    "Additionally, multiple properties can be defined to filter search results. To demonstrate this, the properties of the original `HelloWorld.txt` file will be updated and two other files `HelloWorld2.txt` and `HelloWorld3.txt` with different properties will be uploaded:"
   ]
  },
  {
   "cell_type": "code",
   "execution_count": 62,
   "metadata": {},
   "outputs": [
    {
     "data": {
      "text/plain": [
       "{'id': '1jUuadfUbAm7sG02r5sT0-qlvuZcSoDZD',\n",
       " 'name': 'HelloWorld.txt',\n",
       " 'properties': {'day_of_week': 'Monday', 'color': 'blue', 'month': 'June'}}"
      ]
     },
     "execution_count": 62,
     "metadata": {},
     "output_type": "execute_result"
    }
   ],
   "source": [
    "properties = {'day_of_week' : 'Monday',\n",
    "              'month' : 'June',\n",
    "              'color' : 'blue'}\n",
    "\n",
    "new_file_metadata = {'properties':properties}\n",
    "\n",
    "file1 = drive.files().update(fileId = file['id'],\n",
    "                             body = new_file_metadata,\n",
    "                             fields = 'name,id,properties').execute()\n",
    "\n",
    "file1"
   ]
  },
  {
   "cell_type": "markdown",
   "metadata": {},
   "source": [
    "Next, create and upload `HelloWorld2.txt` and `HelloWorld3.txt` with different properties:"
   ]
  },
  {
   "cell_type": "code",
   "execution_count": 63,
   "metadata": {},
   "outputs": [
    {
     "data": {
      "text/plain": [
       "{'id': '1Pg1Rp3DOq-K3Wfrg6lg7MlO4dkAfDFTX',\n",
       " 'name': 'HelloWorld2.txt',\n",
       " 'properties': {'color': 'green', 'month': 'August', 'day_of_week': 'Monday'}}"
      ]
     },
     "execution_count": 63,
     "metadata": {},
     "output_type": "execute_result"
    }
   ],
   "source": [
    "with open('HelloWorld2.txt','w') as f:\n",
    "    f.write('Hello World!')\n",
    "\n",
    "properties = {'day_of_week' : 'Monday',\n",
    "              'month' : 'August',\n",
    "              'color' : 'green'}\n",
    "\n",
    "file_metadata = {'name': 'HelloWorld2.txt',\n",
    "                 'parents': [folder['id']],\n",
    "                 'properties': properties}\n",
    "\n",
    "media = MediaFileUpload('HelloWorld2.txt',chunksize = -1,resumable = False)\n",
    "file2 = drive.files().create(body = file_metadata,media_body = media,fields = 'id,name,properties').execute()\n",
    "\n",
    "file2"
   ]
  },
  {
   "cell_type": "code",
   "execution_count": 64,
   "metadata": {},
   "outputs": [
    {
     "data": {
      "text/plain": [
       "{'id': '1q0djdwf_cSEkx61muTYaNltwyH6ABwG1',\n",
       " 'name': 'HelloWorld3.txt',\n",
       " 'properties': {'color': 'blue',\n",
       "  'month': 'September',\n",
       "  'day_of_week': 'Tuesday'}}"
      ]
     },
     "execution_count": 64,
     "metadata": {},
     "output_type": "execute_result"
    }
   ],
   "source": [
    "with open('HelloWorld3.txt','w') as f:\n",
    "    f.write('Hello World!')\n",
    "\n",
    "properties = {'day_of_week' : 'Tuesday',\n",
    "              'month' : 'September',\n",
    "              'color' : 'blue'}\n",
    "\n",
    "file_metadata = {'name': 'HelloWorld3.txt',\n",
    "                 'parents': [folder['id']],\n",
    "                 'properties': properties}\n",
    "\n",
    "media = MediaFileUpload('HelloWorld3.txt',chunksize = -1,resumable = False)\n",
    "file3 = drive.files().create(body = file_metadata,media_body = media,fields = 'id,name,properties').execute()\n",
    "\n",
    "file3"
   ]
  },
  {
   "cell_type": "markdown",
   "metadata": {},
   "source": [
    "Finally, `files().list()` can be used to search for these files. First, to return `HelloWorld.txt` and `HelloWorld2.txt`:"
   ]
  },
  {
   "cell_type": "code",
   "execution_count": 65,
   "metadata": {},
   "outputs": [
    {
     "data": {
      "text/plain": [
       "{'files': [{'name': 'HelloWorld2.txt',\n",
       "   'properties': {'color': 'green',\n",
       "    'month': 'August',\n",
       "    'day_of_week': 'Monday'}},\n",
       "  {'name': 'HelloWorld.txt',\n",
       "   'properties': {'day_of_week': 'Monday', 'color': 'blue', 'month': 'June'}}]}"
      ]
     },
     "execution_count": 65,
     "metadata": {},
     "output_type": "execute_result"
    }
   ],
   "source": [
    "query = \"properties has {key = 'day_of_week' and value = 'Monday'}\"\n",
    "\n",
    "drive.files().list(q = query,fields = 'files(name,properties)').execute()"
   ]
  },
  {
   "cell_type": "markdown",
   "metadata": {},
   "source": [
    "Next, to return `HelloWorld2.txt` only:"
   ]
  },
  {
   "cell_type": "code",
   "execution_count": 66,
   "metadata": {},
   "outputs": [
    {
     "data": {
      "text/plain": [
       "{'files': [{'name': 'HelloWorld2.txt',\n",
       "   'properties': {'color': 'green',\n",
       "    'month': 'August',\n",
       "    'day_of_week': 'Monday'}}]}"
      ]
     },
     "execution_count": 66,
     "metadata": {},
     "output_type": "execute_result"
    }
   ],
   "source": [
    "query = \"properties has {key = 'day_of_week' and value = 'Monday'} and properties has {key = 'color' and value = 'green'}\"\n",
    "\n",
    "drive.files().list(q = query,fields = 'files(name,properties)').execute()"
   ]
  },
  {
   "cell_type": "markdown",
   "metadata": {},
   "source": [
    "Notice that the general format to query multiple properties at the same time is:\n",
    "\n",
    "`\"properties has {key = 'key1' and value = 'value1'} and properties has {key = 'key2' and value = 'value2'} and properties has {key = 'key3' and value = 'value3'} and ...\"`\n",
    "\n",
    "As another example, to return `HelloWorld3.txt` only:"
   ]
  },
  {
   "cell_type": "code",
   "execution_count": 67,
   "metadata": {},
   "outputs": [
    {
     "data": {
      "text/plain": [
       "{'files': [{'name': 'HelloWorld3.txt',\n",
       "   'properties': {'color': 'blue',\n",
       "    'month': 'September',\n",
       "    'day_of_week': 'Tuesday'}}]}"
      ]
     },
     "execution_count": 67,
     "metadata": {},
     "output_type": "execute_result"
    }
   ],
   "source": [
    "query = \"properties has {key = 'month' and value = 'September'} and properties has {key = 'day_of_week' and value = 'Tuesday'}\"\n",
    "\n",
    "drive.files().list(q = query,fields = 'files(name,properties)').execute()"
   ]
  },
  {
   "cell_type": "markdown",
   "metadata": {},
   "source": [
    "To make it easier to create query strings, the following function can be used:"
   ]
  },
  {
   "cell_type": "code",
   "execution_count": 68,
   "metadata": {},
   "outputs": [],
   "source": [
    "\"\"\"\n",
    "properties is a dictionary, where each key is the property name and each value is the property value. For example:\n",
    "\n",
    "properties = {'name':'John',\n",
    "              'age':'25',\n",
    "              'height':'185cm'}\n",
    "              \n",
    "Note that both the property name and property value must be strings.\n",
    "\n",
    "\"\"\"\n",
    "\n",
    "def create_query(properties):\n",
    "    \n",
    "    query = ''\n",
    "    \n",
    "    for i,(key,value) in enumerate(properties.items()):\n",
    "        \n",
    "        single_query = \"properties has {key = '\"+key+\"' and value = '\"+value+\"'} and \"\n",
    "        \n",
    "        # if this is the last key-value pair in the properties dictionary, remove the final ' and ' substring\n",
    "                \n",
    "        if i == (len(properties)-1):\n",
    "            single_query = single_query[:-5]\n",
    "        \n",
    "        query = query + single_query\n",
    "    \n",
    "    return query"
   ]
  },
  {
   "cell_type": "markdown",
   "metadata": {},
   "source": [
    "## Downloading a file"
   ]
  },
  {
   "cell_type": "markdown",
   "metadata": {},
   "source": [
    "To download `HelloWorld.txt`:"
   ]
  },
  {
   "cell_type": "code",
   "execution_count": 69,
   "metadata": {},
   "outputs": [],
   "source": [
    "from googleapiclient.http import MediaIoBaseDownload\n",
    "import io\n",
    "\n",
    "# form the HTTP request\n",
    "\n",
    "request = drive.files().get_media(fileId = file1['id'])\n",
    "\n",
    "# create a BytesIO object to store the bytes in RAM\n",
    "\n",
    "downloaded_file = io.BytesIO()\n",
    "\n",
    "# initialize the downloader\n",
    "\n",
    "downloader = MediaIoBaseDownload(fd = downloaded_file,\n",
    "                                 request = request,\n",
    "                                 chunksize = 100 * 1024 * 1024) # download in ~105 MB chunks\n",
    "\n",
    "# start downloading the bytes in chunks and store them in downloaded_file\n",
    "\n",
    "done = False\n",
    "while done is False:\n",
    "    _,done = downloader.next_chunk()\n",
    "\n",
    "dst = file1['name']\n",
    "\n",
    "with open(dst,'wb') as f:\n",
    "    f.write(downloaded_file.getvalue())"
   ]
  },
  {
   "cell_type": "markdown",
   "metadata": {},
   "source": [
    "See [here](https://github.com/googleapis/google-api-python-client/blob/3e28a1e0d47f829182cd92f37475ab91fa5e4afc/googleapiclient/http.py#L644) for details about the `MediaIoBaseDownload` class. Note that if the file to be downloaded is too large to fit in RAM, then the file can instead be opened in `append` mode using the `open()` function."
   ]
  },
  {
   "cell_type": "markdown",
   "metadata": {},
   "source": [
    "## Batching HTTP requests"
   ]
  },
  {
   "cell_type": "markdown",
   "metadata": {},
   "source": [
    "Sometimes, several calls to the Google Drive API are necessary, such as deleting a large number of files using the `drive.files().delete()` method. In this case, instead of creating each HTTP request and executing them individually, they can be batched together into one request. See the following links for details:\n",
    "\n",
    "* [Improve performance](https://developers.google.com/drive/api/v3/performance)\n",
    "* [new_batch_http_request()](https://github.com/googleapis/google-api-python-client/blob/3e28a1e0d47f829182cd92f37475ab91fa5e4afc/googleapiclient/discovery.py#L1219)\n",
    "* [BatchHttpRequest()](https://github.com/googleapis/google-api-python-client/blob/3e28a1e0d47f829182cd92f37475ab91fa5e4afc/googleapiclient/http.py#L1122)\n",
    "* [BatchHttpRequest().add()](https://github.com/googleapis/google-api-python-client/blob/3e28a1e0d47f829182cd92f37475ab91fa5e4afc/googleapiclient/http.py#L1368)\n",
    "\n",
    "Note that the `callback` parameter in the `BatchHttpRequest()` class is a function that handles the response body and HTTP errors that are returned by each HTTP request when they are executed.\n",
    "\n",
    "For example, here is how to delete the uploaded files `HelloWorld.txt`, `HelloWorld2.txt`, and `HelloWorld3.txt` using a batch request:"
   ]
  },
  {
   "cell_type": "code",
   "execution_count": 70,
   "metadata": {},
   "outputs": [],
   "source": [
    "batch_request = drive.new_batch_http_request()\n",
    "\n",
    "batch_request.add(request = drive.files().delete(fileId = file1['id']))\n",
    "batch_request.add(request = drive.files().delete(fileId = file2['id']))\n",
    "batch_request.add(request = drive.files().delete(fileId = file3['id']))\n",
    "\n",
    "batch_request.execute()"
   ]
  },
  {
   "cell_type": "markdown",
   "metadata": {},
   "source": [
    "Note that the Google Drive API does not support batch uploading or downloading. See [here](https://github.com/googleapis/google-api-python-client/issues/950) for details."
   ]
  },
  {
   "cell_type": "markdown",
   "metadata": {},
   "source": [
    "## Create a shared drive"
   ]
  },
  {
   "cell_type": "markdown",
   "metadata": {},
   "source": [
    "A shared drive can also be created using the Google Drive API. However, this requires different permissions:"
   ]
  },
  {
   "cell_type": "code",
   "execution_count": 71,
   "metadata": {},
   "outputs": [],
   "source": [
    "SCOPES = ['https://www.googleapis.com/auth/drive']\n",
    "\n",
    "if os.path.exists('token.pickle'):\n",
    "    with open('token.pickle','rb') as f:\n",
    "        creds = pickle.load(f)\n",
    "else:\n",
    "    creds = None\n",
    "\n",
    "if not creds or not creds.valid:\n",
    "    if creds and creds.expired and creds.refresh_token:\n",
    "        creds.refresh(Request())\n",
    "    else:\n",
    "        flow = InstalledAppFlow.from_client_secrets_file('credentials.json', SCOPES)\n",
    "        creds = flow.run_local_server(port=0)\n",
    "    \n",
    "    with open('token.pickle', 'wb') as f:\n",
    "        pickle.dump(creds,f)\n",
    "\n",
    "drive = build('drive','v3',credentials = creds)"
   ]
  },
  {
   "cell_type": "markdown",
   "metadata": {},
   "source": [
    "A shared drive called `TestDrive` can be created as follows:"
   ]
  },
  {
   "cell_type": "code",
   "execution_count": 72,
   "metadata": {
    "scrolled": false
   },
   "outputs": [],
   "source": [
    "import uuid\n",
    "\n",
    "shared_drive = drive.drives().create(body = {'name':'TestDrive'},\n",
    "                                     requestId = str(uuid.uuid4()),\n",
    "                                     fields = 'name,id').execute()"
   ]
  },
  {
   "cell_type": "markdown",
   "metadata": {},
   "source": [
    "Once the shared drive is created, a folder called `TestFolder` can be created within the shared drive as before using the `id` of the shared drive:"
   ]
  },
  {
   "cell_type": "code",
   "execution_count": 73,
   "metadata": {},
   "outputs": [],
   "source": [
    "metadata = {'name':'TestFolder',\n",
    "            'parents':[shared_drive['id']],\n",
    "            'description':'test123',\n",
    "            'mimeType':'application/vnd.google-apps.folder'}\n",
    "\n",
    "sd_folder = drive.files().create(body = metadata,\n",
    "                                 supportsAllDrives = True,\n",
    "                                 fields = 'id').execute()"
   ]
  },
  {
   "cell_type": "markdown",
   "metadata": {},
   "source": [
    "Note however that the `supportsAllDrives` parameter must now be set to `True` in all HTTP requests so that the shared drive is discoverable to the API. This is also true for the `drive.files().list()` and the `drive.files().update()` methods."
   ]
  },
  {
   "cell_type": "markdown",
   "metadata": {},
   "source": [
    "## Adding users to a shared drive"
   ]
  },
  {
   "cell_type": "markdown",
   "metadata": {},
   "source": [
    "When using a shared drive, it is helpful to be able to set the permissions that different users have over the files within it. The `drive.permissions().create()` method is first used to set the permissions for a user and to add them as a member of the shared drive. The `drive.permissions().update()` method can then used to change the [roles](https://developers.google.com/drive/api/v3/ref-roles) of different users to change their access level in the shared drive. Note that if a user's role for a file is `owner`, then it can only be changed by [ownership transfer](https://developers.google.com/drive/api/v3/manage-sharing#transfer_file_ownership), and cannot be changed using the `drive.permissions().update()` method. See [here](https://developers.google.com/drive/api/v3/manage-sharing) and [here](http://googleapis.github.io/google-api-python-client/docs/dyn/drive_v3.permissions.html#create) for full details.\n",
    "\n",
    "So far, the `TestDrive` shared drive has been created and `TestFolder` has been created within it with the description `test123`. Next, a `reader` user can be added as a member to the shared drive as follows. Note that the `permissions['emailAddress']` value must contain a valid email address."
   ]
  },
  {
   "cell_type": "code",
   "execution_count": 74,
   "metadata": {},
   "outputs": [],
   "source": [
    "permissions = {'type':'user',\n",
    "               'emailAddress':'mahmoud.t7@gmail.com', # replace this with a valid email address\n",
    "               'role':'reader'}\n",
    "\n",
    "perm_details = drive.permissions().create(fileId = shared_drive['id'],\n",
    "                                          body = permissions,\n",
    "                                          fields = '*',\n",
    "                                          sendNotificationEmail = True,\n",
    "                                          emailMessage = None,\n",
    "                                          supportsAllDrives = True).execute()"
   ]
  },
  {
   "cell_type": "markdown",
   "metadata": {},
   "source": [
    "The user's `member` status is reflected in the `permissionDetails[].permissionType` field. If instead a folder or file in the shared drive is shared with the user, and they are not added as a member of the drive, then this field would contain `'file'`."
   ]
  },
  {
   "cell_type": "code",
   "execution_count": 75,
   "metadata": {},
   "outputs": [
    {
     "data": {
      "text/plain": [
       "{'kind': 'drive#permission',\n",
       " 'id': '15105736508812424244',\n",
       " 'type': 'user',\n",
       " 'emailAddress': 'Mahmoud.T7@gmail.com',\n",
       " 'role': 'reader',\n",
       " 'displayName': 'Mahmoud Talaat',\n",
       " 'photoLink': 'https://lh3.googleusercontent.com/a-/AOh14GhO7I7nZwViyNyoOYKzHuDfLIlUGEZJ-KgTNmgNrXQ=s64',\n",
       " 'teamDrivePermissionDetails': [{'teamDrivePermissionType': 'member',\n",
       "   'role': 'reader',\n",
       "   'inherited': False}],\n",
       " 'permissionDetails': [{'permissionType': 'member',\n",
       "   'role': 'reader',\n",
       "   'inherited': False}],\n",
       " 'deleted': False}"
      ]
     },
     "execution_count": 75,
     "metadata": {},
     "output_type": "execute_result"
    }
   ],
   "source": [
    "perm_details"
   ]
  },
  {
   "cell_type": "markdown",
   "metadata": {},
   "source": [
    "The user should receive an email with instructions on opening the shared drive. Note that because the user is a `reader`, they cannot change the `description` field of `TestFolder` using their Google Drive account."
   ]
  },
  {
   "cell_type": "markdown",
   "metadata": {},
   "source": [
    "## Changing file/folder permissions"
   ]
  },
  {
   "cell_type": "markdown",
   "metadata": {},
   "source": [
    "In non-shared drives, the `reader` user introduced above can have their permissions changed, so that they can have more permissions for some files. However, in a shared-drive, a member of the shared drive **cannot** have their permissions changed for specific sub-folders or files. See [here](https://stackoverflow.com/questions/62417898/cannot-update-or-delete-an-inherited-permission-on-a-shared-drive-item) for details. For example, suppose that a `HelloWorld.txt` file is first uploaded to `TestFolder`:"
   ]
  },
  {
   "cell_type": "code",
   "execution_count": 76,
   "metadata": {},
   "outputs": [],
   "source": [
    "file_metadata = {'name': 'HelloWorld.txt',\n",
    "                 'parents': [sd_folder['id']],\n",
    "                 'description': 'test456'}\n",
    "\n",
    "media = MediaFileUpload('HelloWorld.txt',chunksize = -1,resumable = False)\n",
    "file = drive.files().create(body = file_metadata,\n",
    "                            media_body = media,\n",
    "                            fields = '*',\n",
    "                            supportsAllDrives = True).execute()"
   ]
  },
  {
   "cell_type": "markdown",
   "metadata": {},
   "source": [
    "Note that the `reader` user still cannot edit the `description` field of the `HelloWorld.txt` file because permissions are propagated to subfolders and files. See [here](https://developers.google.com/drive/api/v3/manage-sharing#permission_propagation) for details. To _try_ to allow the `reader` user to edit the `description` field of the `HelloWorld.txt` file, their `role` can be changed to `writer`. However, this will raise an error:"
   ]
  },
  {
   "cell_type": "code",
   "execution_count": 77,
   "metadata": {},
   "outputs": [
    {
     "ename": "HttpError",
     "evalue": "<HttpError 403 when requesting https://www.googleapis.com/drive/v3/files/1oT88UZUkawnpBCA8cia2yi9kEcXKKwbh/permissions/15105736508812424244?fields=%2A&supportsAllDrives=true&alt=json returned \"Cannot update or delete an inherited permission on a shared drive item.\">",
     "output_type": "error",
     "traceback": [
      "\u001b[1;31m---------------------------------------------------------------------------\u001b[0m",
      "\u001b[1;31mHttpError\u001b[0m                                 Traceback (most recent call last)",
      "\u001b[1;32m<ipython-input-77-54d89c143aeb>\u001b[0m in \u001b[0;36m<module>\u001b[1;34m\u001b[0m\n\u001b[0;32m      3\u001b[0m                                               \u001b[0mbody\u001b[0m \u001b[1;33m=\u001b[0m \u001b[1;33m{\u001b[0m\u001b[1;34m'role'\u001b[0m\u001b[1;33m:\u001b[0m\u001b[1;34m'writer'\u001b[0m\u001b[1;33m}\u001b[0m\u001b[1;33m,\u001b[0m\u001b[1;33m\u001b[0m\u001b[1;33m\u001b[0m\u001b[0m\n\u001b[0;32m      4\u001b[0m                                               \u001b[0mfields\u001b[0m \u001b[1;33m=\u001b[0m \u001b[1;34m'*'\u001b[0m\u001b[1;33m,\u001b[0m\u001b[1;33m\u001b[0m\u001b[1;33m\u001b[0m\u001b[0m\n\u001b[1;32m----> 5\u001b[1;33m                                               supportsAllDrives = True).execute()\n\u001b[0m",
      "\u001b[1;32mC:\\Users\\Mahmoud Talaat\\Anaconda3\\lib\\site-packages\\googleapiclient\\_helpers.py\u001b[0m in \u001b[0;36mpositional_wrapper\u001b[1;34m(*args, **kwargs)\u001b[0m\n\u001b[0;32m    132\u001b[0m                 \u001b[1;32melif\u001b[0m \u001b[0mpositional_parameters_enforcement\u001b[0m \u001b[1;33m==\u001b[0m \u001b[0mPOSITIONAL_WARNING\u001b[0m\u001b[1;33m:\u001b[0m\u001b[1;33m\u001b[0m\u001b[1;33m\u001b[0m\u001b[0m\n\u001b[0;32m    133\u001b[0m                     \u001b[0mlogger\u001b[0m\u001b[1;33m.\u001b[0m\u001b[0mwarning\u001b[0m\u001b[1;33m(\u001b[0m\u001b[0mmessage\u001b[0m\u001b[1;33m)\u001b[0m\u001b[1;33m\u001b[0m\u001b[1;33m\u001b[0m\u001b[0m\n\u001b[1;32m--> 134\u001b[1;33m             \u001b[1;32mreturn\u001b[0m \u001b[0mwrapped\u001b[0m\u001b[1;33m(\u001b[0m\u001b[1;33m*\u001b[0m\u001b[0margs\u001b[0m\u001b[1;33m,\u001b[0m \u001b[1;33m**\u001b[0m\u001b[0mkwargs\u001b[0m\u001b[1;33m)\u001b[0m\u001b[1;33m\u001b[0m\u001b[1;33m\u001b[0m\u001b[0m\n\u001b[0m\u001b[0;32m    135\u001b[0m \u001b[1;33m\u001b[0m\u001b[0m\n\u001b[0;32m    136\u001b[0m         \u001b[1;32mreturn\u001b[0m \u001b[0mpositional_wrapper\u001b[0m\u001b[1;33m\u001b[0m\u001b[1;33m\u001b[0m\u001b[0m\n",
      "\u001b[1;32mC:\\Users\\Mahmoud Talaat\\Anaconda3\\lib\\site-packages\\googleapiclient\\http.py\u001b[0m in \u001b[0;36mexecute\u001b[1;34m(self, http, num_retries)\u001b[0m\n\u001b[0;32m    905\u001b[0m             \u001b[0mcallback\u001b[0m\u001b[1;33m(\u001b[0m\u001b[0mresp\u001b[0m\u001b[1;33m)\u001b[0m\u001b[1;33m\u001b[0m\u001b[1;33m\u001b[0m\u001b[0m\n\u001b[0;32m    906\u001b[0m         \u001b[1;32mif\u001b[0m \u001b[0mresp\u001b[0m\u001b[1;33m.\u001b[0m\u001b[0mstatus\u001b[0m \u001b[1;33m>=\u001b[0m \u001b[1;36m300\u001b[0m\u001b[1;33m:\u001b[0m\u001b[1;33m\u001b[0m\u001b[1;33m\u001b[0m\u001b[0m\n\u001b[1;32m--> 907\u001b[1;33m             \u001b[1;32mraise\u001b[0m \u001b[0mHttpError\u001b[0m\u001b[1;33m(\u001b[0m\u001b[0mresp\u001b[0m\u001b[1;33m,\u001b[0m \u001b[0mcontent\u001b[0m\u001b[1;33m,\u001b[0m \u001b[0muri\u001b[0m\u001b[1;33m=\u001b[0m\u001b[0mself\u001b[0m\u001b[1;33m.\u001b[0m\u001b[0muri\u001b[0m\u001b[1;33m)\u001b[0m\u001b[1;33m\u001b[0m\u001b[1;33m\u001b[0m\u001b[0m\n\u001b[0m\u001b[0;32m    908\u001b[0m         \u001b[1;32mreturn\u001b[0m \u001b[0mself\u001b[0m\u001b[1;33m.\u001b[0m\u001b[0mpostproc\u001b[0m\u001b[1;33m(\u001b[0m\u001b[0mresp\u001b[0m\u001b[1;33m,\u001b[0m \u001b[0mcontent\u001b[0m\u001b[1;33m)\u001b[0m\u001b[1;33m\u001b[0m\u001b[1;33m\u001b[0m\u001b[0m\n\u001b[0;32m    909\u001b[0m \u001b[1;33m\u001b[0m\u001b[0m\n",
      "\u001b[1;31mHttpError\u001b[0m: <HttpError 403 when requesting https://www.googleapis.com/drive/v3/files/1oT88UZUkawnpBCA8cia2yi9kEcXKKwbh/permissions/15105736508812424244?fields=%2A&supportsAllDrives=true&alt=json returned \"Cannot update or delete an inherited permission on a shared drive item.\">"
     ]
    }
   ],
   "source": [
    "new_perm_details = drive.permissions().update(fileId = file['id'],\n",
    "                                              permissionId = perm_details['id'],\n",
    "                                              body = {'role':'writer'},\n",
    "                                              fields = '*',\n",
    "                                              supportsAllDrives = True).execute()"
   ]
  },
  {
   "cell_type": "markdown",
   "metadata": {},
   "source": [
    "This granular control is only possible in a normal non-shared drive. For example, suppose that the files `HelloWorld1.txt`, `HelloWorld2.txt`, and `HelloWorld3.txt` are created and uploaded to `TestFolder` that was created in the non-shared drive:"
   ]
  },
  {
   "cell_type": "code",
   "execution_count": 78,
   "metadata": {},
   "outputs": [],
   "source": [
    "file_properties = {'HelloWorld1.txt' : {'name':'John','age':'25'},\n",
    "                   'HelloWorld2.txt' : {'name':'Matt','age':'23'},\n",
    "                   'HelloWorld3.txt' : {'name':'Rachel','age':'25'}}\n",
    "\n",
    "responses = []\n",
    "\n",
    "for filename,properties in file_properties.items():\n",
    "    \n",
    "    with open(filename,'w') as f:\n",
    "        f.write('Hello World!')\n",
    "    \n",
    "    metadata = {'name' : filename,\n",
    "                'parents' : [folder['id']],\n",
    "                'properties' : properties,\n",
    "                'description':'test123'}\n",
    "    \n",
    "    media = MediaFileUpload(filename,\n",
    "                            chunksize = -1,\n",
    "                            resumable = False)\n",
    "\n",
    "    response = drive.files().create(body = metadata,\n",
    "                                    media_body = media,\n",
    "                                    fields = 'id,name,properties,permissions').execute()\n",
    "    \n",
    "    responses.append(response)"
   ]
  },
  {
   "cell_type": "markdown",
   "metadata": {},
   "source": [
    "Now suppose that another user is assigned as a `reader` of `TestFolder`:"
   ]
  },
  {
   "cell_type": "code",
   "execution_count": 79,
   "metadata": {},
   "outputs": [],
   "source": [
    "permissions = {'type':'user',\n",
    "               'emailAddress':'mahmoud.t7@gmail.com', # replace this with a valid email address\n",
    "               'role':'reader'}\n",
    "\n",
    "perm = drive.permissions().create(fileId = folder['id'],\n",
    "                                  body = permissions,\n",
    "                                  fields = '*',\n",
    "                                  sendNotificationEmail = True,\n",
    "                                  emailMessage = None,\n",
    "                                  supportsAllDrives = None).execute()"
   ]
  },
  {
   "cell_type": "markdown",
   "metadata": {},
   "source": [
    "Currently, this user is not able to edit the `description` or `properties` fields of `HelloWorld1.txt`, `HelloWorld2.txt`, and `HelloWorld3.txt`. To allow the user to edit the fields of the `HelloWorld1.txt` file, the permission ID of the `HelloWorld1.txt` file is first returned:"
   ]
  },
  {
   "cell_type": "code",
   "execution_count": 80,
   "metadata": {},
   "outputs": [
    {
     "data": {
      "text/plain": [
       "'15105736508812424244'"
      ]
     },
     "execution_count": 80,
     "metadata": {},
     "output_type": "execute_result"
    }
   ],
   "source": [
    "# first get permission id of HelloWorld1.txt\n",
    "\n",
    "perm_details = drive.permissions().list(fileId = responses[0]['id']).execute()\n",
    "\n",
    "perm_details['permissions'][0]['id']"
   ]
  },
  {
   "cell_type": "markdown",
   "metadata": {},
   "source": [
    "Next, the corresponding permissions are adjusted to make the user a `writer`:"
   ]
  },
  {
   "cell_type": "code",
   "execution_count": 81,
   "metadata": {},
   "outputs": [],
   "source": [
    "new_perm_details = drive.permissions().update(fileId = responses[0]['id'],\n",
    "                                              permissionId = perm_details['permissions'][0]['id'],\n",
    "                                              body = {'role':'writer'},\n",
    "                                              fields = '*').execute()"
   ]
  },
  {
   "cell_type": "markdown",
   "metadata": {},
   "source": [
    "Notice that the user will now have the ability to edit the `description` field of the `HelloWorld1.txt` file, but they will still not be able to edit the `description` field of the `HelloWorld2.txt` and `HelloWorld3.txt` files."
   ]
  }
 ],
 "metadata": {
  "kernelspec": {
   "display_name": "Python 3",
   "language": "python",
   "name": "python3"
  },
  "language_info": {
   "codemirror_mode": {
    "name": "ipython",
    "version": 3
   },
   "file_extension": ".py",
   "mimetype": "text/x-python",
   "name": "python",
   "nbconvert_exporter": "python",
   "pygments_lexer": "ipython3",
   "version": "3.7.7"
  }
 },
 "nbformat": 4,
 "nbformat_minor": 4
}
